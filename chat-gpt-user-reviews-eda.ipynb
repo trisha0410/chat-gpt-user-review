{
 "cells": [
  {
   "cell_type": "code",
   "execution_count": null,
   "id": "8c7edab0",
   "metadata": {
    "papermill": {
     "duration": 0.00812,
     "end_time": "2024-08-07T06:05:22.792886",
     "exception": false,
     "start_time": "2024-08-07T06:05:22.784766",
     "status": "completed"
    },
    "tags": []
   },
   "outputs": [],
   "source": []
  },
  {
   "cell_type": "code",
   "execution_count": 1,
   "id": "ee2d0767",
   "metadata": {
    "_cell_guid": "b1076dfc-b9ad-4769-8c92-a6c4dae69d19",
    "_uuid": "8f2839f25d086af736a60e9eeb907d3b93b6e0e5",
    "execution": {
     "iopub.execute_input": "2024-08-07T06:05:22.811550Z",
     "iopub.status.busy": "2024-08-07T06:05:22.810620Z",
     "iopub.status.idle": "2024-08-07T06:05:23.772218Z",
     "shell.execute_reply": "2024-08-07T06:05:23.770749Z"
    },
    "papermill": {
     "duration": 0.973714,
     "end_time": "2024-08-07T06:05:23.774893",
     "exception": false,
     "start_time": "2024-08-07T06:05:22.801179",
     "status": "completed"
    },
    "tags": []
   },
   "outputs": [
    {
     "name": "stdout",
     "output_type": "stream",
     "text": [
      "/kaggle/input/chatgpt-user-feedback/clean_chatgpt_reviews.csv\n"
     ]
    }
   ],
   "source": [
    "# This Python 3 environment comes with many helpful analytics libraries installed\n",
    "# It is defined by the kaggle/python Docker image: https://github.com/kaggle/docker-python\n",
    "# For example, here's several helpful packages to load\n",
    "\n",
    "import numpy as np # linear algebra\n",
    "import pandas as pd # data processing, CSV file I/O (e.g. pd.read_csv)\n",
    "\n",
    "# Input data files are available in the read-only \"../input/\" directory\n",
    "# For example, running this (by clicking run or pressing Shift+Enter) will list all files under the input directory\n",
    "\n",
    "import os\n",
    "for dirname, _, filenames in os.walk('/kaggle/input'):\n",
    "    for filename in filenames:\n",
    "        print(os.path.join(dirname, filename))\n",
    "\n",
    "# You can write up to 20GB to the current directory (/kaggle/working/) that gets preserved as output when you create a version using \"Save & Run All\" \n",
    "# You can also write temporary files to /kaggle/temp/, but they won't be saved outside of the current session"
   ]
  },
  {
   "cell_type": "code",
   "execution_count": 2,
   "id": "39126534",
   "metadata": {
    "execution": {
     "iopub.execute_input": "2024-08-07T06:05:23.793798Z",
     "iopub.status.busy": "2024-08-07T06:05:23.792410Z",
     "iopub.status.idle": "2024-08-07T06:05:25.193156Z",
     "shell.execute_reply": "2024-08-07T06:05:25.192163Z"
    },
    "papermill": {
     "duration": 1.412809,
     "end_time": "2024-08-07T06:05:25.195933",
     "exception": false,
     "start_time": "2024-08-07T06:05:23.783124",
     "status": "completed"
    },
    "tags": []
   },
   "outputs": [],
   "source": [
    "import numpy as np\n",
    "import pandas as pd\n",
    "import matplotlib.pyplot as plt\n",
    "import seaborn as sns "
   ]
  },
  {
   "cell_type": "markdown",
   "id": "a7d8681f",
   "metadata": {
    "papermill": {
     "duration": 0.007813,
     "end_time": "2024-08-07T06:05:25.211810",
     "exception": false,
     "start_time": "2024-08-07T06:05:25.203997",
     "status": "completed"
    },
    "tags": []
   },
   "source": []
  },
  {
   "cell_type": "code",
   "execution_count": 3,
   "id": "34b248f7",
   "metadata": {
    "execution": {
     "iopub.execute_input": "2024-08-07T06:05:25.229020Z",
     "iopub.status.busy": "2024-08-07T06:05:25.228270Z",
     "iopub.status.idle": "2024-08-07T06:05:26.081680Z",
     "shell.execute_reply": "2024-08-07T06:05:26.080426Z"
    },
    "papermill": {
     "duration": 0.864996,
     "end_time": "2024-08-07T06:05:26.084391",
     "exception": false,
     "start_time": "2024-08-07T06:05:25.219395",
     "status": "completed"
    },
    "tags": []
   },
   "outputs": [
    {
     "data": {
      "text/html": [
       "<div>\n",
       "<style scoped>\n",
       "    .dataframe tbody tr th:only-of-type {\n",
       "        vertical-align: middle;\n",
       "    }\n",
       "\n",
       "    .dataframe tbody tr th {\n",
       "        vertical-align: top;\n",
       "    }\n",
       "\n",
       "    .dataframe thead th {\n",
       "        text-align: right;\n",
       "    }\n",
       "</style>\n",
       "<table border=\"1\" class=\"dataframe\">\n",
       "  <thead>\n",
       "    <tr style=\"text-align: right;\">\n",
       "      <th></th>\n",
       "      <th>Unnamed: 0</th>\n",
       "      <th>userName</th>\n",
       "      <th>content</th>\n",
       "      <th>score</th>\n",
       "      <th>thumbsUpCount</th>\n",
       "      <th>at</th>\n",
       "    </tr>\n",
       "  </thead>\n",
       "  <tbody>\n",
       "    <tr>\n",
       "      <th>0</th>\n",
       "      <td>0</td>\n",
       "      <td>T H (Trudylh20)</td>\n",
       "      <td>excellent Im impressed 👌 👏</td>\n",
       "      <td>5</td>\n",
       "      <td>0</td>\n",
       "      <td>28-06-2024 21:07</td>\n",
       "    </tr>\n",
       "    <tr>\n",
       "      <th>1</th>\n",
       "      <td>1</td>\n",
       "      <td>Muhammad bassam adam</td>\n",
       "      <td>perfect</td>\n",
       "      <td>5</td>\n",
       "      <td>0</td>\n",
       "      <td>28-06-2024 20:56</td>\n",
       "    </tr>\n",
       "    <tr>\n",
       "      <th>2</th>\n",
       "      <td>2</td>\n",
       "      <td>Chinaza Okoli</td>\n",
       "      <td>its been so helpful...love it</td>\n",
       "      <td>5</td>\n",
       "      <td>0</td>\n",
       "      <td>28-06-2024 20:54</td>\n",
       "    </tr>\n",
       "    <tr>\n",
       "      <th>3</th>\n",
       "      <td>3</td>\n",
       "      <td>Project House Group Ltd</td>\n",
       "      <td>It's amazing tools help me a lot with my work.</td>\n",
       "      <td>5</td>\n",
       "      <td>0</td>\n",
       "      <td>28-06-2024 20:51</td>\n",
       "    </tr>\n",
       "    <tr>\n",
       "      <th>4</th>\n",
       "      <td>4</td>\n",
       "      <td>Safoan Riyad</td>\n",
       "      <td>I enjoyed ChatGPT. But last update ruined ever...</td>\n",
       "      <td>1</td>\n",
       "      <td>0</td>\n",
       "      <td>28-06-2024 20:50</td>\n",
       "    </tr>\n",
       "    <tr>\n",
       "      <th>...</th>\n",
       "      <td>...</td>\n",
       "      <td>...</td>\n",
       "      <td>...</td>\n",
       "      <td>...</td>\n",
       "      <td>...</td>\n",
       "      <td>...</td>\n",
       "    </tr>\n",
       "    <tr>\n",
       "      <th>149714</th>\n",
       "      <td>149720</td>\n",
       "      <td>m.santhosh Kumar</td>\n",
       "      <td>Update 2023</td>\n",
       "      <td>5</td>\n",
       "      <td>0</td>\n",
       "      <td>27-07-2023 16:26</td>\n",
       "    </tr>\n",
       "    <tr>\n",
       "      <th>149715</th>\n",
       "      <td>149721</td>\n",
       "      <td>Andrew Bourgeois</td>\n",
       "      <td>its grear</td>\n",
       "      <td>5</td>\n",
       "      <td>0</td>\n",
       "      <td>23-09-2023 16:25</td>\n",
       "    </tr>\n",
       "    <tr>\n",
       "      <th>149716</th>\n",
       "      <td>149722</td>\n",
       "      <td>Dern Bob</td>\n",
       "      <td>Funtastic App</td>\n",
       "      <td>5</td>\n",
       "      <td>0</td>\n",
       "      <td>08-11-2023 13:57</td>\n",
       "    </tr>\n",
       "    <tr>\n",
       "      <th>149717</th>\n",
       "      <td>149723</td>\n",
       "      <td>Abdur rahman arif</td>\n",
       "      <td>hi all</td>\n",
       "      <td>5</td>\n",
       "      <td>0</td>\n",
       "      <td>25-07-2023 15:32</td>\n",
       "    </tr>\n",
       "    <tr>\n",
       "      <th>149718</th>\n",
       "      <td>149724</td>\n",
       "      <td>Tushar Deran</td>\n",
       "      <td>expert application</td>\n",
       "      <td>5</td>\n",
       "      <td>0</td>\n",
       "      <td>30-11-2023 18:11</td>\n",
       "    </tr>\n",
       "  </tbody>\n",
       "</table>\n",
       "<p>149719 rows × 6 columns</p>\n",
       "</div>"
      ],
      "text/plain": [
       "        Unnamed: 0                 userName  \\\n",
       "0                0          T H (Trudylh20)   \n",
       "1                1     Muhammad bassam adam   \n",
       "2                2            Chinaza Okoli   \n",
       "3                3  Project House Group Ltd   \n",
       "4                4             Safoan Riyad   \n",
       "...            ...                      ...   \n",
       "149714      149720         m.santhosh Kumar   \n",
       "149715      149721         Andrew Bourgeois   \n",
       "149716      149722                 Dern Bob   \n",
       "149717      149723        Abdur rahman arif   \n",
       "149718      149724             Tushar Deran   \n",
       "\n",
       "                                                  content  score  \\\n",
       "0                              excellent Im impressed 👌 👏      5   \n",
       "1                                                 perfect      5   \n",
       "2                           its been so helpful...love it      5   \n",
       "3          It's amazing tools help me a lot with my work.      5   \n",
       "4       I enjoyed ChatGPT. But last update ruined ever...      1   \n",
       "...                                                   ...    ...   \n",
       "149714                                        Update 2023      5   \n",
       "149715                                          its grear      5   \n",
       "149716                                      Funtastic App      5   \n",
       "149717                                             hi all      5   \n",
       "149718                                 expert application      5   \n",
       "\n",
       "        thumbsUpCount                at  \n",
       "0                   0  28-06-2024 21:07  \n",
       "1                   0  28-06-2024 20:56  \n",
       "2                   0  28-06-2024 20:54  \n",
       "3                   0  28-06-2024 20:51  \n",
       "4                   0  28-06-2024 20:50  \n",
       "...               ...               ...  \n",
       "149714              0  27-07-2023 16:26  \n",
       "149715              0  23-09-2023 16:25  \n",
       "149716              0  08-11-2023 13:57  \n",
       "149717              0  25-07-2023 15:32  \n",
       "149718              0  30-11-2023 18:11  \n",
       "\n",
       "[149719 rows x 6 columns]"
      ]
     },
     "execution_count": 3,
     "metadata": {},
     "output_type": "execute_result"
    }
   ],
   "source": [
    "df=pd.read_csv('/kaggle/input/chatgpt-user-feedback/clean_chatgpt_reviews.csv')\n",
    "df"
   ]
  },
  {
   "cell_type": "raw",
   "id": "ba314f6d",
   "metadata": {
    "execution": {
     "iopub.execute_input": "2024-08-06T07:25:43.274025Z",
     "iopub.status.busy": "2024-08-06T07:25:43.273490Z",
     "iopub.status.idle": "2024-08-06T07:25:44.086898Z",
     "shell.execute_reply": "2024-08-06T07:25:44.085838Z",
     "shell.execute_reply.started": "2024-08-06T07:25:43.273993Z"
    },
    "papermill": {
     "duration": 0.008015,
     "end_time": "2024-08-07T06:05:26.101065",
     "exception": false,
     "start_time": "2024-08-07T06:05:26.093050",
     "status": "completed"
    },
    "tags": []
   },
   "source": []
  },
  {
   "cell_type": "code",
   "execution_count": 4,
   "id": "8414320b",
   "metadata": {
    "execution": {
     "iopub.execute_input": "2024-08-07T06:05:26.119944Z",
     "iopub.status.busy": "2024-08-07T06:05:26.118951Z",
     "iopub.status.idle": "2024-08-07T06:05:26.193911Z",
     "shell.execute_reply": "2024-08-07T06:05:26.192317Z"
    },
    "papermill": {
     "duration": 0.087134,
     "end_time": "2024-08-07T06:05:26.196552",
     "exception": false,
     "start_time": "2024-08-07T06:05:26.109418",
     "status": "completed"
    },
    "tags": []
   },
   "outputs": [
    {
     "name": "stdout",
     "output_type": "stream",
     "text": [
      "<class 'pandas.core.frame.DataFrame'>\n",
      "RangeIndex: 149719 entries, 0 to 149718\n",
      "Data columns (total 6 columns):\n",
      " #   Column         Non-Null Count   Dtype \n",
      "---  ------         --------------   ----- \n",
      " 0   Unnamed: 0     149719 non-null  int64 \n",
      " 1   userName       149719 non-null  object\n",
      " 2   content        149719 non-null  object\n",
      " 3   score          149719 non-null  int64 \n",
      " 4   thumbsUpCount  149719 non-null  int64 \n",
      " 5   at             149719 non-null  object\n",
      "dtypes: int64(3), object(3)\n",
      "memory usage: 6.9+ MB\n"
     ]
    }
   ],
   "source": [
    "df.info()"
   ]
  },
  {
   "cell_type": "code",
   "execution_count": 5,
   "id": "4bf2dd69",
   "metadata": {
    "execution": {
     "iopub.execute_input": "2024-08-07T06:05:26.215142Z",
     "iopub.status.busy": "2024-08-07T06:05:26.214409Z",
     "iopub.status.idle": "2024-08-07T06:05:26.273145Z",
     "shell.execute_reply": "2024-08-07T06:05:26.272132Z"
    },
    "papermill": {
     "duration": 0.070667,
     "end_time": "2024-08-07T06:05:26.275463",
     "exception": false,
     "start_time": "2024-08-07T06:05:26.204796",
     "status": "completed"
    },
    "tags": []
   },
   "outputs": [
    {
     "data": {
      "text/plain": [
       "Unnamed: 0       0\n",
       "userName         0\n",
       "content          0\n",
       "score            0\n",
       "thumbsUpCount    0\n",
       "at               0\n",
       "dtype: int64"
      ]
     },
     "execution_count": 5,
     "metadata": {},
     "output_type": "execute_result"
    }
   ],
   "source": [
    "df.isnull().sum()"
   ]
  },
  {
   "cell_type": "code",
   "execution_count": 6,
   "id": "31aaf58a",
   "metadata": {
    "execution": {
     "iopub.execute_input": "2024-08-07T06:05:26.294078Z",
     "iopub.status.busy": "2024-08-07T06:05:26.293703Z",
     "iopub.status.idle": "2024-08-07T06:05:26.307177Z",
     "shell.execute_reply": "2024-08-07T06:05:26.306055Z"
    },
    "papermill": {
     "duration": 0.025613,
     "end_time": "2024-08-07T06:05:26.309619",
     "exception": false,
     "start_time": "2024-08-07T06:05:26.284006",
     "status": "completed"
    },
    "tags": []
   },
   "outputs": [
    {
     "data": {
      "text/html": [
       "<div>\n",
       "<style scoped>\n",
       "    .dataframe tbody tr th:only-of-type {\n",
       "        vertical-align: middle;\n",
       "    }\n",
       "\n",
       "    .dataframe tbody tr th {\n",
       "        vertical-align: top;\n",
       "    }\n",
       "\n",
       "    .dataframe thead th {\n",
       "        text-align: right;\n",
       "    }\n",
       "</style>\n",
       "<table border=\"1\" class=\"dataframe\">\n",
       "  <thead>\n",
       "    <tr style=\"text-align: right;\">\n",
       "      <th></th>\n",
       "      <th>Unnamed: 0</th>\n",
       "      <th>userName</th>\n",
       "      <th>content</th>\n",
       "      <th>score</th>\n",
       "      <th>thumbsUpCount</th>\n",
       "      <th>at</th>\n",
       "    </tr>\n",
       "  </thead>\n",
       "  <tbody>\n",
       "    <tr>\n",
       "      <th>0</th>\n",
       "      <td>0</td>\n",
       "      <td>T H (Trudylh20)</td>\n",
       "      <td>excellent Im impressed 👌 👏</td>\n",
       "      <td>5</td>\n",
       "      <td>0</td>\n",
       "      <td>28-06-2024 21:07</td>\n",
       "    </tr>\n",
       "    <tr>\n",
       "      <th>1</th>\n",
       "      <td>1</td>\n",
       "      <td>Muhammad bassam adam</td>\n",
       "      <td>perfect</td>\n",
       "      <td>5</td>\n",
       "      <td>0</td>\n",
       "      <td>28-06-2024 20:56</td>\n",
       "    </tr>\n",
       "    <tr>\n",
       "      <th>2</th>\n",
       "      <td>2</td>\n",
       "      <td>Chinaza Okoli</td>\n",
       "      <td>its been so helpful...love it</td>\n",
       "      <td>5</td>\n",
       "      <td>0</td>\n",
       "      <td>28-06-2024 20:54</td>\n",
       "    </tr>\n",
       "    <tr>\n",
       "      <th>3</th>\n",
       "      <td>3</td>\n",
       "      <td>Project House Group Ltd</td>\n",
       "      <td>It's amazing tools help me a lot with my work.</td>\n",
       "      <td>5</td>\n",
       "      <td>0</td>\n",
       "      <td>28-06-2024 20:51</td>\n",
       "    </tr>\n",
       "    <tr>\n",
       "      <th>4</th>\n",
       "      <td>4</td>\n",
       "      <td>Safoan Riyad</td>\n",
       "      <td>I enjoyed ChatGPT. But last update ruined ever...</td>\n",
       "      <td>1</td>\n",
       "      <td>0</td>\n",
       "      <td>28-06-2024 20:50</td>\n",
       "    </tr>\n",
       "  </tbody>\n",
       "</table>\n",
       "</div>"
      ],
      "text/plain": [
       "   Unnamed: 0                 userName  \\\n",
       "0           0          T H (Trudylh20)   \n",
       "1           1     Muhammad bassam adam   \n",
       "2           2            Chinaza Okoli   \n",
       "3           3  Project House Group Ltd   \n",
       "4           4             Safoan Riyad   \n",
       "\n",
       "                                             content  score  thumbsUpCount  \\\n",
       "0                         excellent Im impressed 👌 👏      5              0   \n",
       "1                                            perfect      5              0   \n",
       "2                      its been so helpful...love it      5              0   \n",
       "3     It's amazing tools help me a lot with my work.      5              0   \n",
       "4  I enjoyed ChatGPT. But last update ruined ever...      1              0   \n",
       "\n",
       "                 at  \n",
       "0  28-06-2024 21:07  \n",
       "1  28-06-2024 20:56  \n",
       "2  28-06-2024 20:54  \n",
       "3  28-06-2024 20:51  \n",
       "4  28-06-2024 20:50  "
      ]
     },
     "execution_count": 6,
     "metadata": {},
     "output_type": "execute_result"
    }
   ],
   "source": [
    "df.head()"
   ]
  },
  {
   "cell_type": "code",
   "execution_count": 7,
   "id": "8381b533",
   "metadata": {
    "execution": {
     "iopub.execute_input": "2024-08-07T06:05:26.329516Z",
     "iopub.status.busy": "2024-08-07T06:05:26.328855Z",
     "iopub.status.idle": "2024-08-07T06:05:26.505456Z",
     "shell.execute_reply": "2024-08-07T06:05:26.504378Z"
    },
    "papermill": {
     "duration": 0.189397,
     "end_time": "2024-08-07T06:05:26.508013",
     "exception": false,
     "start_time": "2024-08-07T06:05:26.318616",
     "status": "completed"
    },
    "tags": []
   },
   "outputs": [
    {
     "data": {
      "text/plain": [
       "Unnamed: 0       149719\n",
       "userName         138416\n",
       "content           98995\n",
       "score                 5\n",
       "thumbsUpCount       230\n",
       "at               115108\n",
       "dtype: int64"
      ]
     },
     "execution_count": 7,
     "metadata": {},
     "output_type": "execute_result"
    }
   ],
   "source": [
    "df.nunique()"
   ]
  },
  {
   "cell_type": "code",
   "execution_count": 8,
   "id": "73547219",
   "metadata": {
    "execution": {
     "iopub.execute_input": "2024-08-07T06:05:26.527733Z",
     "iopub.status.busy": "2024-08-07T06:05:26.527300Z",
     "iopub.status.idle": "2024-08-07T06:05:26.564850Z",
     "shell.execute_reply": "2024-08-07T06:05:26.563550Z"
    },
    "papermill": {
     "duration": 0.050177,
     "end_time": "2024-08-07T06:05:26.567247",
     "exception": false,
     "start_time": "2024-08-07T06:05:26.517070",
     "status": "completed"
    },
    "tags": []
   },
   "outputs": [
    {
     "data": {
      "text/html": [
       "<div>\n",
       "<style scoped>\n",
       "    .dataframe tbody tr th:only-of-type {\n",
       "        vertical-align: middle;\n",
       "    }\n",
       "\n",
       "    .dataframe tbody tr th {\n",
       "        vertical-align: top;\n",
       "    }\n",
       "\n",
       "    .dataframe thead th {\n",
       "        text-align: right;\n",
       "    }\n",
       "</style>\n",
       "<table border=\"1\" class=\"dataframe\">\n",
       "  <thead>\n",
       "    <tr style=\"text-align: right;\">\n",
       "      <th></th>\n",
       "      <th>Unnamed: 0</th>\n",
       "      <th>score</th>\n",
       "      <th>thumbsUpCount</th>\n",
       "    </tr>\n",
       "  </thead>\n",
       "  <tbody>\n",
       "    <tr>\n",
       "      <th>count</th>\n",
       "      <td>149719.000000</td>\n",
       "      <td>149719.000000</td>\n",
       "      <td>149719.000000</td>\n",
       "    </tr>\n",
       "    <tr>\n",
       "      <th>mean</th>\n",
       "      <td>74861.348252</td>\n",
       "      <td>4.491848</td>\n",
       "      <td>0.492937</td>\n",
       "    </tr>\n",
       "    <tr>\n",
       "      <th>std</th>\n",
       "      <td>43221.928693</td>\n",
       "      <td>1.096859</td>\n",
       "      <td>12.285116</td>\n",
       "    </tr>\n",
       "    <tr>\n",
       "      <th>min</th>\n",
       "      <td>0.000000</td>\n",
       "      <td>1.000000</td>\n",
       "      <td>0.000000</td>\n",
       "    </tr>\n",
       "    <tr>\n",
       "      <th>25%</th>\n",
       "      <td>37430.500000</td>\n",
       "      <td>5.000000</td>\n",
       "      <td>0.000000</td>\n",
       "    </tr>\n",
       "    <tr>\n",
       "      <th>50%</th>\n",
       "      <td>74860.000000</td>\n",
       "      <td>5.000000</td>\n",
       "      <td>0.000000</td>\n",
       "    </tr>\n",
       "    <tr>\n",
       "      <th>75%</th>\n",
       "      <td>112291.500000</td>\n",
       "      <td>5.000000</td>\n",
       "      <td>0.000000</td>\n",
       "    </tr>\n",
       "    <tr>\n",
       "      <th>max</th>\n",
       "      <td>149724.000000</td>\n",
       "      <td>5.000000</td>\n",
       "      <td>1193.000000</td>\n",
       "    </tr>\n",
       "  </tbody>\n",
       "</table>\n",
       "</div>"
      ],
      "text/plain": [
       "          Unnamed: 0          score  thumbsUpCount\n",
       "count  149719.000000  149719.000000  149719.000000\n",
       "mean    74861.348252       4.491848       0.492937\n",
       "std     43221.928693       1.096859      12.285116\n",
       "min         0.000000       1.000000       0.000000\n",
       "25%     37430.500000       5.000000       0.000000\n",
       "50%     74860.000000       5.000000       0.000000\n",
       "75%    112291.500000       5.000000       0.000000\n",
       "max    149724.000000       5.000000    1193.000000"
      ]
     },
     "execution_count": 8,
     "metadata": {},
     "output_type": "execute_result"
    }
   ],
   "source": [
    "df.describe()"
   ]
  },
  {
   "cell_type": "code",
   "execution_count": 9,
   "id": "1f860ba9",
   "metadata": {
    "execution": {
     "iopub.execute_input": "2024-08-07T06:05:26.587518Z",
     "iopub.status.busy": "2024-08-07T06:05:26.587140Z",
     "iopub.status.idle": "2024-08-07T06:05:27.382330Z",
     "shell.execute_reply": "2024-08-07T06:05:27.381160Z"
    },
    "papermill": {
     "duration": 0.808453,
     "end_time": "2024-08-07T06:05:27.385005",
     "exception": false,
     "start_time": "2024-08-07T06:05:26.576552",
     "status": "completed"
    },
    "tags": []
   },
   "outputs": [
    {
     "data": {
      "text/html": [
       "<div>\n",
       "<style scoped>\n",
       "    .dataframe tbody tr th:only-of-type {\n",
       "        vertical-align: middle;\n",
       "    }\n",
       "\n",
       "    .dataframe tbody tr th {\n",
       "        vertical-align: top;\n",
       "    }\n",
       "\n",
       "    .dataframe thead th {\n",
       "        text-align: right;\n",
       "    }\n",
       "</style>\n",
       "<table border=\"1\" class=\"dataframe\">\n",
       "  <thead>\n",
       "    <tr style=\"text-align: right;\">\n",
       "      <th></th>\n",
       "      <th>Unnamed: 0</th>\n",
       "      <th>userName</th>\n",
       "      <th>content</th>\n",
       "      <th>score</th>\n",
       "      <th>thumbsUpCount</th>\n",
       "      <th>at</th>\n",
       "    </tr>\n",
       "  </thead>\n",
       "  <tbody>\n",
       "    <tr>\n",
       "      <th>0</th>\n",
       "      <td>0</td>\n",
       "      <td>T H (Trudylh20)</td>\n",
       "      <td>excellent Im impressed 👌 👏</td>\n",
       "      <td>5</td>\n",
       "      <td>0</td>\n",
       "      <td>2024-06-28 21:07:00</td>\n",
       "    </tr>\n",
       "    <tr>\n",
       "      <th>1</th>\n",
       "      <td>1</td>\n",
       "      <td>Muhammad bassam adam</td>\n",
       "      <td>perfect</td>\n",
       "      <td>5</td>\n",
       "      <td>0</td>\n",
       "      <td>2024-06-28 20:56:00</td>\n",
       "    </tr>\n",
       "    <tr>\n",
       "      <th>2</th>\n",
       "      <td>2</td>\n",
       "      <td>Chinaza Okoli</td>\n",
       "      <td>its been so helpful...love it</td>\n",
       "      <td>5</td>\n",
       "      <td>0</td>\n",
       "      <td>2024-06-28 20:54:00</td>\n",
       "    </tr>\n",
       "    <tr>\n",
       "      <th>3</th>\n",
       "      <td>3</td>\n",
       "      <td>Project House Group Ltd</td>\n",
       "      <td>It's amazing tools help me a lot with my work.</td>\n",
       "      <td>5</td>\n",
       "      <td>0</td>\n",
       "      <td>2024-06-28 20:51:00</td>\n",
       "    </tr>\n",
       "    <tr>\n",
       "      <th>4</th>\n",
       "      <td>4</td>\n",
       "      <td>Safoan Riyad</td>\n",
       "      <td>I enjoyed ChatGPT. But last update ruined ever...</td>\n",
       "      <td>1</td>\n",
       "      <td>0</td>\n",
       "      <td>2024-06-28 20:50:00</td>\n",
       "    </tr>\n",
       "    <tr>\n",
       "      <th>...</th>\n",
       "      <td>...</td>\n",
       "      <td>...</td>\n",
       "      <td>...</td>\n",
       "      <td>...</td>\n",
       "      <td>...</td>\n",
       "      <td>...</td>\n",
       "    </tr>\n",
       "    <tr>\n",
       "      <th>149714</th>\n",
       "      <td>149720</td>\n",
       "      <td>m.santhosh Kumar</td>\n",
       "      <td>Update 2023</td>\n",
       "      <td>5</td>\n",
       "      <td>0</td>\n",
       "      <td>2023-07-27 16:26:00</td>\n",
       "    </tr>\n",
       "    <tr>\n",
       "      <th>149715</th>\n",
       "      <td>149721</td>\n",
       "      <td>Andrew Bourgeois</td>\n",
       "      <td>its grear</td>\n",
       "      <td>5</td>\n",
       "      <td>0</td>\n",
       "      <td>2023-09-23 16:25:00</td>\n",
       "    </tr>\n",
       "    <tr>\n",
       "      <th>149716</th>\n",
       "      <td>149722</td>\n",
       "      <td>Dern Bob</td>\n",
       "      <td>Funtastic App</td>\n",
       "      <td>5</td>\n",
       "      <td>0</td>\n",
       "      <td>2023-11-08 13:57:00</td>\n",
       "    </tr>\n",
       "    <tr>\n",
       "      <th>149717</th>\n",
       "      <td>149723</td>\n",
       "      <td>Abdur rahman arif</td>\n",
       "      <td>hi all</td>\n",
       "      <td>5</td>\n",
       "      <td>0</td>\n",
       "      <td>2023-07-25 15:32:00</td>\n",
       "    </tr>\n",
       "    <tr>\n",
       "      <th>149718</th>\n",
       "      <td>149724</td>\n",
       "      <td>Tushar Deran</td>\n",
       "      <td>expert application</td>\n",
       "      <td>5</td>\n",
       "      <td>0</td>\n",
       "      <td>2023-11-30 18:11:00</td>\n",
       "    </tr>\n",
       "  </tbody>\n",
       "</table>\n",
       "<p>149719 rows × 6 columns</p>\n",
       "</div>"
      ],
      "text/plain": [
       "        Unnamed: 0                 userName  \\\n",
       "0                0          T H (Trudylh20)   \n",
       "1                1     Muhammad bassam adam   \n",
       "2                2            Chinaza Okoli   \n",
       "3                3  Project House Group Ltd   \n",
       "4                4             Safoan Riyad   \n",
       "...            ...                      ...   \n",
       "149714      149720         m.santhosh Kumar   \n",
       "149715      149721         Andrew Bourgeois   \n",
       "149716      149722                 Dern Bob   \n",
       "149717      149723        Abdur rahman arif   \n",
       "149718      149724             Tushar Deran   \n",
       "\n",
       "                                                  content  score  \\\n",
       "0                              excellent Im impressed 👌 👏      5   \n",
       "1                                                 perfect      5   \n",
       "2                           its been so helpful...love it      5   \n",
       "3          It's amazing tools help me a lot with my work.      5   \n",
       "4       I enjoyed ChatGPT. But last update ruined ever...      1   \n",
       "...                                                   ...    ...   \n",
       "149714                                        Update 2023      5   \n",
       "149715                                          its grear      5   \n",
       "149716                                      Funtastic App      5   \n",
       "149717                                             hi all      5   \n",
       "149718                                 expert application      5   \n",
       "\n",
       "        thumbsUpCount                  at  \n",
       "0                   0 2024-06-28 21:07:00  \n",
       "1                   0 2024-06-28 20:56:00  \n",
       "2                   0 2024-06-28 20:54:00  \n",
       "3                   0 2024-06-28 20:51:00  \n",
       "4                   0 2024-06-28 20:50:00  \n",
       "...               ...                 ...  \n",
       "149714              0 2023-07-27 16:26:00  \n",
       "149715              0 2023-09-23 16:25:00  \n",
       "149716              0 2023-11-08 13:57:00  \n",
       "149717              0 2023-07-25 15:32:00  \n",
       "149718              0 2023-11-30 18:11:00  \n",
       "\n",
       "[149719 rows x 6 columns]"
      ]
     },
     "execution_count": 9,
     "metadata": {},
     "output_type": "execute_result"
    }
   ],
   "source": [
    "df['at'] = pd.to_datetime(df['at'], format='%d-%m-%Y %H:%M')\n",
    "df\n"
   ]
  },
  {
   "cell_type": "code",
   "execution_count": 10,
   "id": "06ce19c8",
   "metadata": {
    "execution": {
     "iopub.execute_input": "2024-08-07T06:05:27.407288Z",
     "iopub.status.busy": "2024-08-07T06:05:27.406862Z",
     "iopub.status.idle": "2024-08-07T06:05:27.831956Z",
     "shell.execute_reply": "2024-08-07T06:05:27.830421Z"
    },
    "papermill": {
     "duration": 0.44017,
     "end_time": "2024-08-07T06:05:27.835046",
     "exception": false,
     "start_time": "2024-08-07T06:05:27.394876",
     "status": "completed"
    },
    "tags": []
   },
   "outputs": [
    {
     "data": {
      "text/plain": [
       "Text(0.5, 1.0, 'Distribution of Scores')"
      ]
     },
     "execution_count": 10,
     "metadata": {},
     "output_type": "execute_result"
    },
    {
     "data": {
      "image/png": "[encoded data removed]",
      "text/plain": [
       "<Figure size 640x480 with 1 Axes>"
      ]
     },
     "metadata": {},
     "output_type": "display_data"
    }
   ],
   "source": [
    "sns.set_palette(\"pastel\")\n",
    "scores=df['score'].value_counts()\n",
    "sns.barplot(x=scores.index,y=scores.values)\n",
    "plt.title('Distribution of Scores')"
   ]
  },
  {
   "cell_type": "code",
   "execution_count": 11,
   "id": "0057c3af",
   "metadata": {
    "execution": {
     "iopub.execute_input": "2024-08-07T06:05:27.859801Z",
     "iopub.status.busy": "2024-08-07T06:05:27.859421Z",
     "iopub.status.idle": "2024-08-07T06:05:27.864843Z",
     "shell.execute_reply": "2024-08-07T06:05:27.863453Z"
    },
    "papermill": {
     "duration": 0.021176,
     "end_time": "2024-08-07T06:05:27.867613",
     "exception": false,
     "start_time": "2024-08-07T06:05:27.846437",
     "status": "completed"
    },
    "tags": []
   },
   "outputs": [],
   "source": [
    "import datetime as dt"
   ]
  },
  {
   "cell_type": "code",
   "execution_count": 12,
   "id": "60e6da9d",
   "metadata": {
    "execution": {
     "iopub.execute_input": "2024-08-07T06:05:27.889945Z",
     "iopub.status.busy": "2024-08-07T06:05:27.889571Z",
     "iopub.status.idle": "2024-08-07T06:05:27.912801Z",
     "shell.execute_reply": "2024-08-07T06:05:27.911626Z"
    },
    "papermill": {
     "duration": 0.037393,
     "end_time": "2024-08-07T06:05:27.915421",
     "exception": false,
     "start_time": "2024-08-07T06:05:27.878028",
     "status": "completed"
    },
    "tags": []
   },
   "outputs": [
    {
     "data": {
      "text/html": [
       "<div>\n",
       "<style scoped>\n",
       "    .dataframe tbody tr th:only-of-type {\n",
       "        vertical-align: middle;\n",
       "    }\n",
       "\n",
       "    .dataframe tbody tr th {\n",
       "        vertical-align: top;\n",
       "    }\n",
       "\n",
       "    .dataframe thead th {\n",
       "        text-align: right;\n",
       "    }\n",
       "</style>\n",
       "<table border=\"1\" class=\"dataframe\">\n",
       "  <thead>\n",
       "    <tr style=\"text-align: right;\">\n",
       "      <th></th>\n",
       "      <th>Unnamed: 0</th>\n",
       "      <th>userName</th>\n",
       "      <th>content</th>\n",
       "      <th>score</th>\n",
       "      <th>thumbsUpCount</th>\n",
       "      <th>at</th>\n",
       "      <th>year</th>\n",
       "    </tr>\n",
       "  </thead>\n",
       "  <tbody>\n",
       "    <tr>\n",
       "      <th>0</th>\n",
       "      <td>0</td>\n",
       "      <td>T H (Trudylh20)</td>\n",
       "      <td>excellent Im impressed 👌 👏</td>\n",
       "      <td>5</td>\n",
       "      <td>0</td>\n",
       "      <td>2024-06-28 21:07:00</td>\n",
       "      <td>2024</td>\n",
       "    </tr>\n",
       "    <tr>\n",
       "      <th>1</th>\n",
       "      <td>1</td>\n",
       "      <td>Muhammad bassam adam</td>\n",
       "      <td>perfect</td>\n",
       "      <td>5</td>\n",
       "      <td>0</td>\n",
       "      <td>2024-06-28 20:56:00</td>\n",
       "      <td>2024</td>\n",
       "    </tr>\n",
       "    <tr>\n",
       "      <th>2</th>\n",
       "      <td>2</td>\n",
       "      <td>Chinaza Okoli</td>\n",
       "      <td>its been so helpful...love it</td>\n",
       "      <td>5</td>\n",
       "      <td>0</td>\n",
       "      <td>2024-06-28 20:54:00</td>\n",
       "      <td>2024</td>\n",
       "    </tr>\n",
       "    <tr>\n",
       "      <th>3</th>\n",
       "      <td>3</td>\n",
       "      <td>Project House Group Ltd</td>\n",
       "      <td>It's amazing tools help me a lot with my work.</td>\n",
       "      <td>5</td>\n",
       "      <td>0</td>\n",
       "      <td>2024-06-28 20:51:00</td>\n",
       "      <td>2024</td>\n",
       "    </tr>\n",
       "    <tr>\n",
       "      <th>4</th>\n",
       "      <td>4</td>\n",
       "      <td>Safoan Riyad</td>\n",
       "      <td>I enjoyed ChatGPT. But last update ruined ever...</td>\n",
       "      <td>1</td>\n",
       "      <td>0</td>\n",
       "      <td>2024-06-28 20:50:00</td>\n",
       "      <td>2024</td>\n",
       "    </tr>\n",
       "    <tr>\n",
       "      <th>...</th>\n",
       "      <td>...</td>\n",
       "      <td>...</td>\n",
       "      <td>...</td>\n",
       "      <td>...</td>\n",
       "      <td>...</td>\n",
       "      <td>...</td>\n",
       "      <td>...</td>\n",
       "    </tr>\n",
       "    <tr>\n",
       "      <th>149714</th>\n",
       "      <td>149720</td>\n",
       "      <td>m.santhosh Kumar</td>\n",
       "      <td>Update 2023</td>\n",
       "      <td>5</td>\n",
       "      <td>0</td>\n",
       "      <td>2023-07-27 16:26:00</td>\n",
       "      <td>2023</td>\n",
       "    </tr>\n",
       "    <tr>\n",
       "      <th>149715</th>\n",
       "      <td>149721</td>\n",
       "      <td>Andrew Bourgeois</td>\n",
       "      <td>its grear</td>\n",
       "      <td>5</td>\n",
       "      <td>0</td>\n",
       "      <td>2023-09-23 16:25:00</td>\n",
       "      <td>2023</td>\n",
       "    </tr>\n",
       "    <tr>\n",
       "      <th>149716</th>\n",
       "      <td>149722</td>\n",
       "      <td>Dern Bob</td>\n",
       "      <td>Funtastic App</td>\n",
       "      <td>5</td>\n",
       "      <td>0</td>\n",
       "      <td>2023-11-08 13:57:00</td>\n",
       "      <td>2023</td>\n",
       "    </tr>\n",
       "    <tr>\n",
       "      <th>149717</th>\n",
       "      <td>149723</td>\n",
       "      <td>Abdur rahman arif</td>\n",
       "      <td>hi all</td>\n",
       "      <td>5</td>\n",
       "      <td>0</td>\n",
       "      <td>2023-07-25 15:32:00</td>\n",
       "      <td>2023</td>\n",
       "    </tr>\n",
       "    <tr>\n",
       "      <th>149718</th>\n",
       "      <td>149724</td>\n",
       "      <td>Tushar Deran</td>\n",
       "      <td>expert application</td>\n",
       "      <td>5</td>\n",
       "      <td>0</td>\n",
       "      <td>2023-11-30 18:11:00</td>\n",
       "      <td>2023</td>\n",
       "    </tr>\n",
       "  </tbody>\n",
       "</table>\n",
       "<p>149719 rows × 7 columns</p>\n",
       "</div>"
      ],
      "text/plain": [
       "        Unnamed: 0                 userName  \\\n",
       "0                0          T H (Trudylh20)   \n",
       "1                1     Muhammad bassam adam   \n",
       "2                2            Chinaza Okoli   \n",
       "3                3  Project House Group Ltd   \n",
       "4                4             Safoan Riyad   \n",
       "...            ...                      ...   \n",
       "149714      149720         m.santhosh Kumar   \n",
       "149715      149721         Andrew Bourgeois   \n",
       "149716      149722                 Dern Bob   \n",
       "149717      149723        Abdur rahman arif   \n",
       "149718      149724             Tushar Deran   \n",
       "\n",
       "                                                  content  score  \\\n",
       "0                              excellent Im impressed 👌 👏      5   \n",
       "1                                                 perfect      5   \n",
       "2                           its been so helpful...love it      5   \n",
       "3          It's amazing tools help me a lot with my work.      5   \n",
       "4       I enjoyed ChatGPT. But last update ruined ever...      1   \n",
       "...                                                   ...    ...   \n",
       "149714                                        Update 2023      5   \n",
       "149715                                          its grear      5   \n",
       "149716                                      Funtastic App      5   \n",
       "149717                                             hi all      5   \n",
       "149718                                 expert application      5   \n",
       "\n",
       "        thumbsUpCount                  at  year  \n",
       "0                   0 2024-06-28 21:07:00  2024  \n",
       "1                   0 2024-06-28 20:56:00  2024  \n",
       "2                   0 2024-06-28 20:54:00  2024  \n",
       "3                   0 2024-06-28 20:51:00  2024  \n",
       "4                   0 2024-06-28 20:50:00  2024  \n",
       "...               ...                 ...   ...  \n",
       "149714              0 2023-07-27 16:26:00  2023  \n",
       "149715              0 2023-09-23 16:25:00  2023  \n",
       "149716              0 2023-11-08 13:57:00  2023  \n",
       "149717              0 2023-07-25 15:32:00  2023  \n",
       "149718              0 2023-11-30 18:11:00  2023  \n",
       "\n",
       "[149719 rows x 7 columns]"
      ]
     },
     "execution_count": 12,
     "metadata": {},
     "output_type": "execute_result"
    }
   ],
   "source": [
    "df['year']=df['at'].dt.year\n",
    "df"
   ]
  },
  {
   "cell_type": "code",
   "execution_count": 13,
   "id": "f3a8b29b",
   "metadata": {
    "execution": {
     "iopub.execute_input": "2024-08-07T06:05:27.940725Z",
     "iopub.status.busy": "2024-08-07T06:05:27.940166Z",
     "iopub.status.idle": "2024-08-07T06:05:27.969570Z",
     "shell.execute_reply": "2024-08-07T06:05:27.968642Z"
    },
    "papermill": {
     "duration": 0.048763,
     "end_time": "2024-08-07T06:05:27.975175",
     "exception": false,
     "start_time": "2024-08-07T06:05:27.926412",
     "status": "completed"
    },
    "tags": []
   },
   "outputs": [
    {
     "data": {
      "text/html": [
       "<div>\n",
       "<style scoped>\n",
       "    .dataframe tbody tr th:only-of-type {\n",
       "        vertical-align: middle;\n",
       "    }\n",
       "\n",
       "    .dataframe tbody tr th {\n",
       "        vertical-align: top;\n",
       "    }\n",
       "\n",
       "    .dataframe thead th {\n",
       "        text-align: right;\n",
       "    }\n",
       "</style>\n",
       "<table border=\"1\" class=\"dataframe\">\n",
       "  <thead>\n",
       "    <tr style=\"text-align: right;\">\n",
       "      <th></th>\n",
       "      <th>Unnamed: 0</th>\n",
       "      <th>userName</th>\n",
       "      <th>content</th>\n",
       "      <th>score</th>\n",
       "      <th>thumbsUpCount</th>\n",
       "      <th>at</th>\n",
       "      <th>year</th>\n",
       "      <th>month</th>\n",
       "    </tr>\n",
       "  </thead>\n",
       "  <tbody>\n",
       "    <tr>\n",
       "      <th>0</th>\n",
       "      <td>0</td>\n",
       "      <td>T H (Trudylh20)</td>\n",
       "      <td>excellent Im impressed 👌 👏</td>\n",
       "      <td>5</td>\n",
       "      <td>0</td>\n",
       "      <td>2024-06-28 21:07:00</td>\n",
       "      <td>2024</td>\n",
       "      <td>6</td>\n",
       "    </tr>\n",
       "    <tr>\n",
       "      <th>1</th>\n",
       "      <td>1</td>\n",
       "      <td>Muhammad bassam adam</td>\n",
       "      <td>perfect</td>\n",
       "      <td>5</td>\n",
       "      <td>0</td>\n",
       "      <td>2024-06-28 20:56:00</td>\n",
       "      <td>2024</td>\n",
       "      <td>6</td>\n",
       "    </tr>\n",
       "    <tr>\n",
       "      <th>2</th>\n",
       "      <td>2</td>\n",
       "      <td>Chinaza Okoli</td>\n",
       "      <td>its been so helpful...love it</td>\n",
       "      <td>5</td>\n",
       "      <td>0</td>\n",
       "      <td>2024-06-28 20:54:00</td>\n",
       "      <td>2024</td>\n",
       "      <td>6</td>\n",
       "    </tr>\n",
       "    <tr>\n",
       "      <th>3</th>\n",
       "      <td>3</td>\n",
       "      <td>Project House Group Ltd</td>\n",
       "      <td>It's amazing tools help me a lot with my work.</td>\n",
       "      <td>5</td>\n",
       "      <td>0</td>\n",
       "      <td>2024-06-28 20:51:00</td>\n",
       "      <td>2024</td>\n",
       "      <td>6</td>\n",
       "    </tr>\n",
       "    <tr>\n",
       "      <th>4</th>\n",
       "      <td>4</td>\n",
       "      <td>Safoan Riyad</td>\n",
       "      <td>I enjoyed ChatGPT. But last update ruined ever...</td>\n",
       "      <td>1</td>\n",
       "      <td>0</td>\n",
       "      <td>2024-06-28 20:50:00</td>\n",
       "      <td>2024</td>\n",
       "      <td>6</td>\n",
       "    </tr>\n",
       "    <tr>\n",
       "      <th>...</th>\n",
       "      <td>...</td>\n",
       "      <td>...</td>\n",
       "      <td>...</td>\n",
       "      <td>...</td>\n",
       "      <td>...</td>\n",
       "      <td>...</td>\n",
       "      <td>...</td>\n",
       "      <td>...</td>\n",
       "    </tr>\n",
       "    <tr>\n",
       "      <th>149714</th>\n",
       "      <td>149720</td>\n",
       "      <td>m.santhosh Kumar</td>\n",
       "      <td>Update 2023</td>\n",
       "      <td>5</td>\n",
       "      <td>0</td>\n",
       "      <td>2023-07-27 16:26:00</td>\n",
       "      <td>2023</td>\n",
       "      <td>7</td>\n",
       "    </tr>\n",
       "    <tr>\n",
       "      <th>149715</th>\n",
       "      <td>149721</td>\n",
       "      <td>Andrew Bourgeois</td>\n",
       "      <td>its grear</td>\n",
       "      <td>5</td>\n",
       "      <td>0</td>\n",
       "      <td>2023-09-23 16:25:00</td>\n",
       "      <td>2023</td>\n",
       "      <td>9</td>\n",
       "    </tr>\n",
       "    <tr>\n",
       "      <th>149716</th>\n",
       "      <td>149722</td>\n",
       "      <td>Dern Bob</td>\n",
       "      <td>Funtastic App</td>\n",
       "      <td>5</td>\n",
       "      <td>0</td>\n",
       "      <td>2023-11-08 13:57:00</td>\n",
       "      <td>2023</td>\n",
       "      <td>11</td>\n",
       "    </tr>\n",
       "    <tr>\n",
       "      <th>149717</th>\n",
       "      <td>149723</td>\n",
       "      <td>Abdur rahman arif</td>\n",
       "      <td>hi all</td>\n",
       "      <td>5</td>\n",
       "      <td>0</td>\n",
       "      <td>2023-07-25 15:32:00</td>\n",
       "      <td>2023</td>\n",
       "      <td>7</td>\n",
       "    </tr>\n",
       "    <tr>\n",
       "      <th>149718</th>\n",
       "      <td>149724</td>\n",
       "      <td>Tushar Deran</td>\n",
       "      <td>expert application</td>\n",
       "      <td>5</td>\n",
       "      <td>0</td>\n",
       "      <td>2023-11-30 18:11:00</td>\n",
       "      <td>2023</td>\n",
       "      <td>11</td>\n",
       "    </tr>\n",
       "  </tbody>\n",
       "</table>\n",
       "<p>149719 rows × 8 columns</p>\n",
       "</div>"
      ],
      "text/plain": [
       "        Unnamed: 0                 userName  \\\n",
       "0                0          T H (Trudylh20)   \n",
       "1                1     Muhammad bassam adam   \n",
       "2                2            Chinaza Okoli   \n",
       "3                3  Project House Group Ltd   \n",
       "4                4             Safoan Riyad   \n",
       "...            ...                      ...   \n",
       "149714      149720         m.santhosh Kumar   \n",
       "149715      149721         Andrew Bourgeois   \n",
       "149716      149722                 Dern Bob   \n",
       "149717      149723        Abdur rahman arif   \n",
       "149718      149724             Tushar Deran   \n",
       "\n",
       "                                                  content  score  \\\n",
       "0                              excellent Im impressed 👌 👏      5   \n",
       "1                                                 perfect      5   \n",
       "2                           its been so helpful...love it      5   \n",
       "3          It's amazing tools help me a lot with my work.      5   \n",
       "4       I enjoyed ChatGPT. But last update ruined ever...      1   \n",
       "...                                                   ...    ...   \n",
       "149714                                        Update 2023      5   \n",
       "149715                                          its grear      5   \n",
       "149716                                      Funtastic App      5   \n",
       "149717                                             hi all      5   \n",
       "149718                                 expert application      5   \n",
       "\n",
       "        thumbsUpCount                  at  year  month  \n",
       "0                   0 2024-06-28 21:07:00  2024      6  \n",
       "1                   0 2024-06-28 20:56:00  2024      6  \n",
       "2                   0 2024-06-28 20:54:00  2024      6  \n",
       "3                   0 2024-06-28 20:51:00  2024      6  \n",
       "4                   0 2024-06-28 20:50:00  2024      6  \n",
       "...               ...                 ...   ...    ...  \n",
       "149714              0 2023-07-27 16:26:00  2023      7  \n",
       "149715              0 2023-09-23 16:25:00  2023      9  \n",
       "149716              0 2023-11-08 13:57:00  2023     11  \n",
       "149717              0 2023-07-25 15:32:00  2023      7  \n",
       "149718              0 2023-11-30 18:11:00  2023     11  \n",
       "\n",
       "[149719 rows x 8 columns]"
      ]
     },
     "execution_count": 13,
     "metadata": {},
     "output_type": "execute_result"
    }
   ],
   "source": [
    "df['month']=df['at'].dt.month\n",
    "df"
   ]
  },
  {
   "cell_type": "code",
   "execution_count": null,
   "id": "3165b037",
   "metadata": {
    "papermill": {
     "duration": 0.012491,
     "end_time": "2024-08-07T06:05:28.004293",
     "exception": false,
     "start_time": "2024-08-07T06:05:27.991802",
     "status": "completed"
    },
    "tags": []
   },
   "outputs": [],
   "source": []
  },
  {
   "cell_type": "code",
   "execution_count": 14,
   "id": "3a220820",
   "metadata": {
    "execution": {
     "iopub.execute_input": "2024-08-07T06:05:28.029132Z",
     "iopub.status.busy": "2024-08-07T06:05:28.028720Z",
     "iopub.status.idle": "2024-08-07T06:05:28.289246Z",
     "shell.execute_reply": "2024-08-07T06:05:28.288005Z"
    },
    "papermill": {
     "duration": 0.276228,
     "end_time": "2024-08-07T06:05:28.291997",
     "exception": false,
     "start_time": "2024-08-07T06:05:28.015769",
     "status": "completed"
    },
    "tags": []
   },
   "outputs": [
    {
     "data": {
      "image/png": "[encoded data removed]",
      "text/plain": [
       "<Figure size 640x480 with 1 Axes>"
      ]
     },
     "metadata": {},
     "output_type": "display_data"
    }
   ],
   "source": [
    "ax=sns.countplot(x=df['year'])\n"
   ]
  },
  {
   "cell_type": "code",
   "execution_count": 15,
   "id": "ac7e8823",
   "metadata": {
    "execution": {
     "iopub.execute_input": "2024-08-07T06:05:28.321879Z",
     "iopub.status.busy": "2024-08-07T06:05:28.321469Z",
     "iopub.status.idle": "2024-08-07T06:05:28.602419Z",
     "shell.execute_reply": "2024-08-07T06:05:28.601349Z"
    },
    "papermill": {
     "duration": 0.301162,
     "end_time": "2024-08-07T06:05:28.605204",
     "exception": false,
     "start_time": "2024-08-07T06:05:28.304042",
     "status": "completed"
    },
    "tags": []
   },
   "outputs": [
    {
     "data": {
      "image/png": "[encoded data removed]",
      "text/plain": [
       "<Figure size 640x480 with 1 Axes>"
      ]
     },
     "metadata": {},
     "output_type": "display_data"
    }
   ],
   "source": [
    "ax=sns.countplot(x=df['month'])\n"
   ]
  },
  {
   "cell_type": "code",
   "execution_count": 16,
   "id": "d453509d",
   "metadata": {
    "execution": {
     "iopub.execute_input": "2024-08-07T06:05:28.632519Z",
     "iopub.status.busy": "2024-08-07T06:05:28.632099Z",
     "iopub.status.idle": "2024-08-07T06:05:28.969884Z",
     "shell.execute_reply": "2024-08-07T06:05:28.968603Z"
    },
    "papermill": {
     "duration": 0.354675,
     "end_time": "2024-08-07T06:05:28.972679",
     "exception": false,
     "start_time": "2024-08-07T06:05:28.618004",
     "status": "completed"
    },
    "tags": []
   },
   "outputs": [
    {
     "name": "stderr",
     "output_type": "stream",
     "text": [
      "/opt/conda/lib/python3.10/site-packages/seaborn/_oldcore.py:1119: FutureWarning: use_inf_as_na option is deprecated and will be removed in a future version. Convert inf values to NaN before operating instead.\n",
      "  with pd.option_context('mode.use_inf_as_na', True):\n",
      "/opt/conda/lib/python3.10/site-packages/seaborn/_oldcore.py:1119: FutureWarning: use_inf_as_na option is deprecated and will be removed in a future version. Convert inf values to NaN before operating instead.\n",
      "  with pd.option_context('mode.use_inf_as_na', True):\n"
     ]
    },
    {
     "data": {
      "text/plain": [
       "Text(0.5, 1.0, 'Avarge Score over month')"
      ]
     },
     "execution_count": 16,
     "metadata": {},
     "output_type": "execute_result"
    },
    {
     "data": {
      "image/png": "[encoded data removed]",
      "text/plain": [
       "<Figure size 1200x700 with 1 Axes>"
      ]
     },
     "metadata": {},
     "output_type": "display_data"
    }
   ],
   "source": [
    "avg_scores=df.groupby('month')['score'].mean()\n",
    "plt.figure(figsize=(12,7))\n",
    "sns.lineplot(x=avg_scores.index,y=avg_scores.values)\n",
    "plt.title('Avarge Score over month')"
   ]
  },
  {
   "cell_type": "code",
   "execution_count": 17,
   "id": "5cac1e63",
   "metadata": {
    "execution": {
     "iopub.execute_input": "2024-08-07T06:05:29.003234Z",
     "iopub.status.busy": "2024-08-07T06:05:29.002802Z",
     "iopub.status.idle": "2024-08-07T06:05:29.028379Z",
     "shell.execute_reply": "2024-08-07T06:05:29.027105Z"
    },
    "papermill": {
     "duration": 0.043853,
     "end_time": "2024-08-07T06:05:29.031292",
     "exception": false,
     "start_time": "2024-08-07T06:05:28.987439",
     "status": "completed"
    },
    "tags": []
   },
   "outputs": [],
   "source": [
    "df['sentiment']=df['score'].replace({5:'positive',4:'positive',3:'neutral',2:'negative',1:'negative'})\n"
   ]
  },
  {
   "cell_type": "code",
   "execution_count": 18,
   "id": "6e014acf",
   "metadata": {
    "execution": {
     "iopub.execute_input": "2024-08-07T06:05:29.059514Z",
     "iopub.status.busy": "2024-08-07T06:05:29.059089Z",
     "iopub.status.idle": "2024-08-07T06:05:29.276758Z",
     "shell.execute_reply": "2024-08-07T06:05:29.275621Z"
    },
    "papermill": {
     "duration": 0.235059,
     "end_time": "2024-08-07T06:05:29.279500",
     "exception": false,
     "start_time": "2024-08-07T06:05:29.044441",
     "status": "completed"
    },
    "tags": []
   },
   "outputs": [
    {
     "data": {
      "text/plain": [
       "<Axes: xlabel='sentiment'>"
      ]
     },
     "execution_count": 18,
     "metadata": {},
     "output_type": "execute_result"
    },
    {
     "data": {
      "image/png": "[encoded data removed]",
      "text/plain": [
       "<Figure size 640x480 with 1 Axes>"
      ]
     },
     "metadata": {},
     "output_type": "display_data"
    }
   ],
   "source": [
    "sent=df['sentiment'].value_counts()\n",
    "sns.barplot(x=sent.index,y=sent.values)\n"
   ]
  },
  {
   "cell_type": "code",
   "execution_count": null,
   "id": "b7a0fe38",
   "metadata": {
    "papermill": {
     "duration": 0.013268,
     "end_time": "2024-08-07T06:05:29.306445",
     "exception": false,
     "start_time": "2024-08-07T06:05:29.293177",
     "status": "completed"
    },
    "tags": []
   },
   "outputs": [],
   "source": []
  }
 ],
 "metadata": {
  "kaggle": {
   "accelerator": "none",
   "dataSources": [
    {
     "datasetId": 5308018,
     "sourceId": 8822992,
     "sourceType": "datasetVersion"
    }
   ],
   "dockerImageVersionId": 30746,
   "isGpuEnabled": false,
   "isInternetEnabled": true,
   "language": "python",
   "sourceType": "notebook"
  },
  "kernelspec": {
   "display_name": "Python 3",
   "language": "python",
   "name": "python3"
  },
  "language_info": {
   "codemirror_mode": {
    "name": "ipython",
    "version": 3
   },
   "file_extension": ".py",
   "mimetype": "text/x-python",
   "name": "python",
   "nbconvert_exporter": "python",
   "pygments_lexer": "ipython3",
   "version": "3.10.13"
  },
  "papermill": {
   "default_parameters": {},
   "duration": 10.278913,
   "end_time": "2024-08-07T06:05:29.942135",
   "environment_variables": {},
   "exception": null,
   "input_path": "__notebook__.ipynb",
   "output_path": "__notebook__.ipynb",
   "parameters": {},
   "start_time": "2024-08-07T06:05:19.663222",
   "version": "2.5.0"
  }
 },
 "nbformat": 4,
 "nbformat_minor": 5
}
